{
 "cells": [
  {
   "cell_type": "markdown",
   "metadata": {},
   "source": [
    "# Import libraries/data"
   ]
  },
  {
   "cell_type": "code",
   "execution_count": null,
   "metadata": {},
   "outputs": [],
   "source": [
    "#Import libraries\n",
    "import pandas as pd\n",
    "import thingspeak\n",
    "import json\n",
    "import numpy\n",
    "from keras.models import Sequential\n",
    "import keras\n",
    "from keras.layers import Dense, Dropout\n",
    "from sklearn.preprocessing import MinMaxScaler\n",
    "from sklearn.model_selection import train_test_split\n",
    "from sklearn.model_selection import GridSearchCV\n",
    "from sklearn import metrics\n",
    "from sklearn.neighbors import KNeighborsClassifier\n",
    "from sklearn.metrics import accuracy_score\n",
    "from sklearn.model_selection import GridSearchCV"
   ]
  },
  {
   "cell_type": "code",
   "execution_count": 3,
   "metadata": {},
   "outputs": [
    {
     "data": {
      "text/html": [
       "<div>\n",
       "<style scoped>\n",
       "    .dataframe tbody tr th:only-of-type {\n",
       "        vertical-align: middle;\n",
       "    }\n",
       "\n",
       "    .dataframe tbody tr th {\n",
       "        vertical-align: top;\n",
       "    }\n",
       "\n",
       "    .dataframe thead th {\n",
       "        text-align: right;\n",
       "    }\n",
       "</style>\n",
       "<table border=\"1\" class=\"dataframe\">\n",
       "  <thead>\n",
       "    <tr style=\"text-align: right;\">\n",
       "      <th></th>\n",
       "      <th>Seconds</th>\n",
       "      <th>C02 (PPM)</th>\n",
       "      <th>CO (PPM)</th>\n",
       "      <th>Temperature</th>\n",
       "      <th>Humidity</th>\n",
       "      <th>Fire</th>\n",
       "    </tr>\n",
       "  </thead>\n",
       "  <tbody>\n",
       "    <tr>\n",
       "      <th>0</th>\n",
       "      <td>0</td>\n",
       "      <td>492.0384216308594</td>\n",
       "      <td>0.5013868662507481</td>\n",
       "      <td>18.852901458740234</td>\n",
       "      <td>53.9642333984375</td>\n",
       "      <td>0</td>\n",
       "    </tr>\n",
       "    <tr>\n",
       "      <th>1</th>\n",
       "      <td>12</td>\n",
       "      <td>485.2566833496094</td>\n",
       "      <td>0.5013868662507481</td>\n",
       "      <td>18.711376190185547</td>\n",
       "      <td>54.5257568359375</td>\n",
       "      <td>0</td>\n",
       "    </tr>\n",
       "    <tr>\n",
       "      <th>2</th>\n",
       "      <td>24</td>\n",
       "      <td>492.6656494140625</td>\n",
       "      <td>0.5013868662507481</td>\n",
       "      <td>18.20401382446289</td>\n",
       "      <td>56.04095458984375</td>\n",
       "      <td>0</td>\n",
       "    </tr>\n",
       "    <tr>\n",
       "      <th>3</th>\n",
       "      <td>37</td>\n",
       "      <td>437.8020935058594</td>\n",
       "      <td>0.5013868662507481</td>\n",
       "      <td>17.782100677490234</td>\n",
       "      <td>57.9833984375</td>\n",
       "      <td>0</td>\n",
       "    </tr>\n",
       "    <tr>\n",
       "      <th>4</th>\n",
       "      <td>49</td>\n",
       "      <td>478.41339111328125</td>\n",
       "      <td>0.5013868662507481</td>\n",
       "      <td>17.62722396850586</td>\n",
       "      <td>59.20867919921875</td>\n",
       "      <td>0</td>\n",
       "    </tr>\n",
       "  </tbody>\n",
       "</table>\n",
       "</div>"
      ],
      "text/plain": [
       "  Seconds           C02 (PPM)            CO (PPM)         Temperature  \\\n",
       "0       0   492.0384216308594  0.5013868662507481  18.852901458740234   \n",
       "1      12   485.2566833496094  0.5013868662507481  18.711376190185547   \n",
       "2      24   492.6656494140625  0.5013868662507481   18.20401382446289   \n",
       "3      37   437.8020935058594  0.5013868662507481  17.782100677490234   \n",
       "4      49  478.41339111328125  0.5013868662507481   17.62722396850586   \n",
       "\n",
       "            Humidity  Fire  \n",
       "0   53.9642333984375     0  \n",
       "1   54.5257568359375     0  \n",
       "2  56.04095458984375     0  \n",
       "3      57.9833984375     0  \n",
       "4  59.20867919921875     0  "
      ]
     },
     "execution_count": 3,
     "metadata": {},
     "output_type": "execute_result"
    }
   ],
   "source": [
    "#Import and clean control data\n",
    "lenoptions = dict()\n",
    "lenoptions[\"results\"] = 400\n",
    "\n",
    "channel = thingspeak.Channel(1663562)\n",
    "secondsdata = channel.get_field(field=1, options=lenoptions)\n",
    "cdata = channel.get_field(field=2, options=lenoptions)\n",
    "cmdata = channel.get_field(field=3, options=lenoptions)\n",
    "tempdata = channel.get_field(field=4, options=lenoptions)\n",
    "humiditydata = channel.get_field(field=5, options=lenoptions)\n",
    "\n",
    "seconds = []\n",
    "carbond = []\n",
    "carbonm = []\n",
    "temp = []\n",
    "humidity = []\n",
    "fire = []\n",
    "\n",
    "def cleandata(data, field, datatype):\n",
    "    data = json.loads(data)\n",
    "    for i in data['feeds']:\n",
    "        datatype.append(i['field' + str(field)])\n",
    "    \n",
    "cleandata(secondsdata, 1, seconds)\n",
    "cleandata(cdata, 2, carbond)\n",
    "cleandata(cmdata, 3, carbonm)\n",
    "cleandata(tempdata, 4, temp)\n",
    "cleandata(humiditydata, 5, humidity)\n",
    "i = 0\n",
    "while i < len(secondsdata):\n",
    "    i += 1\n",
    "    fire.append(0)\n",
    "controldf = pd.DataFrame(list(zip(seconds, carbond, carbonm, temp, humidity, fire)), columns = ['Seconds', 'C02 (PPM)', 'CO (PPM)', 'Temperature', 'Humidity', 'Fire'])\n",
    "\n",
    "#Import and clean fire data\n",
    "channel = thingspeak.Channel(1665581)\n",
    "secondsdataf = channel.get_field(field=1)\n",
    "cdataf = channel.get_field(field=2)\n",
    "cmdataf = channel.get_field(field=3)\n",
    "tempdataf = channel.get_field(field=4)\n",
    "humiditydataf = channel.get_field(field=5)\n",
    "\n",
    "secondsf = []\n",
    "carbondf = []\n",
    "carbonmf = []\n",
    "tempf = []\n",
    "humidityf = []\n",
    "firef = []\n",
    "cleandata(secondsdataf, 1, secondsf)\n",
    "cleandata(cdataf, 2, carbondf)\n",
    "cleandata(cmdataf, 3, carbonmf)\n",
    "cleandata(tempdataf, 4, tempf)\n",
    "cleandata(humiditydataf, 5, humidityf)\n",
    "\n",
    "#Merge control and fire data\n",
    "i = 0\n",
    "while i < len(secondsdataf):\n",
    "    i += 1\n",
    "    firef.append(1)\n",
    "firedf = pd.DataFrame(list(zip(secondsf, carbondf, carbonmf, tempf, humidityf, firef)), columns = ['Seconds', 'C02 (PPM)', 'CO (PPM)', 'Temperature', 'Humidity', 'Fire'])\n",
    "\n",
    "#Print first 5 rows of dataset\n",
    "df = pd.concat([controldf, firedf])\n",
    "df.head()"
   ]
  },
  {
   "cell_type": "code",
   "execution_count": 4,
   "metadata": {},
   "outputs": [
    {
     "name": "stdout",
     "output_type": "stream",
     "text": [
      "   Seconds           C02 (PPM)            CO (PPM)         Temperature  \\\n",
      "0        0   492.0384216308594  0.5013868662507481  18.852901458740234   \n",
      "1       12   485.2566833496094  0.5013868662507481  18.711376190185547   \n",
      "2       24   492.6656494140625  0.5013868662507481   18.20401382446289   \n",
      "3       37   437.8020935058594  0.5013868662507481  17.782100677490234   \n",
      "4       49  478.41339111328125  0.5013868662507481   17.62722396850586   \n",
      "..     ...                 ...                 ...                 ...   \n",
      "43     216   624.5687866210938   0.528156973824964  17.103836059570312   \n",
      "44     228    624.929443359375   0.528156973824964  17.173267364501953   \n",
      "45     240   623.9913330078125   0.528156973824964  17.173267364501953   \n",
      "46     253   630.9193115234375   0.528156973824964  17.189289093017578   \n",
      "47     265    636.283935546875   0.528156973824964  17.215991973876953   \n",
      "\n",
      "             Humidity  \n",
      "0    53.9642333984375  \n",
      "1    54.5257568359375  \n",
      "2   56.04095458984375  \n",
      "3       57.9833984375  \n",
      "4   59.20867919921875  \n",
      "..                ...  \n",
      "43  58.13751220703125  \n",
      "44   58.0230712890625  \n",
      "45  58.13751220703125  \n",
      "46  58.18328857421875  \n",
      "47  58.25347900390625  \n",
      "\n",
      "[361 rows x 5 columns]\n",
      "(361,)\n"
     ]
    }
   ],
   "source": [
    "#Create input and output\n",
    "x = df.drop(['Fire'], axis = 1)\n",
    "y = df['Fire']\n",
    "print(x)\n",
    "print(y.shape)"
   ]
  },
  {
   "cell_type": "markdown",
   "metadata": {},
   "source": [
    "# Data Pre-Processing"
   ]
  },
  {
   "cell_type": "code",
   "execution_count": 5,
   "metadata": {},
   "outputs": [],
   "source": [
    "#Scale data to make units comparable\n",
    "scaler = MinMaxScaler()\n",
    "x = scaler.fit_transform(x)\n",
    "\n",
    "#Split data into training and testing sets\n",
    "x_train, x_test, y_train, y_test = train_test_split(x, y, train_size = 0.8, random_state=0)"
   ]
  },
  {
   "cell_type": "markdown",
   "metadata": {},
   "source": [
    "# K-Nearest Neighbors"
   ]
  },
  {
   "cell_type": "code",
   "execution_count": 7,
   "metadata": {},
   "outputs": [
    {
     "name": "stdout",
     "output_type": "stream",
     "text": [
      "Fitting 10 folds for each of 15 candidates, totalling 150 fits\n"
     ]
    },
    {
     "name": "stderr",
     "output_type": "stream",
     "text": [
      "[Parallel(n_jobs=1)]: Using backend SequentialBackend with 1 concurrent workers.\n"
     ]
    },
    {
     "name": "stdout",
     "output_type": "stream",
     "text": [
      "{'n_neighbors': 5}\n",
      "Accuracy:  1.0\n"
     ]
    },
    {
     "name": "stderr",
     "output_type": "stream",
     "text": [
      "[Parallel(n_jobs=1)]: Done 150 out of 150 | elapsed:    0.6s finished\n"
     ]
    }
   ],
   "source": [
    "#Import K-Nearest Neighbors\n",
    "knn = KNeighborsClassifier()\n",
    "\n",
    "#Define range for finding optimal neighbors value\n",
    "k_range = list(range(5, 20))\n",
    "\n",
    "params = dict(n_neighbors=k_range)\n",
    "  \n",
    "#Define parameters for grid search\n",
    "grid = GridSearchCV(knn, params, cv=10, scoring='accuracy', return_train_score=False, verbose=1)\n",
    "  \n",
    "#Perform grid search\n",
    "grid_search = grid.fit(x_train, y_train)\n",
    "\n",
    "print((grid_search.best_params_))\n",
    "\n",
    "#Define parameters for KNN\n",
    "knn = KNeighborsClassifier(n_neighbors=int(5))\n",
    "\n",
    "#Fit KNN to training data\n",
    "knn.fit(x_train, y_train)\n",
    "\n",
    "#Test on testing set and print accuracy\n",
    "y_pred = knn.predict(x_test)\n",
    "print(\"Accuracy: \", metrics.accuracy_score(y_test, y_pred))"
   ]
  },
  {
   "cell_type": "markdown",
   "metadata": {},
   "source": [
    "# Sequential Neural Network"
   ]
  },
  {
   "cell_type": "code",
   "execution_count": 8,
   "metadata": {},
   "outputs": [
    {
     "name": "stdout",
     "output_type": "stream",
     "text": [
      "29\n",
      "3/3 [==============================] - 0s 2ms/step - loss: 0.1721 - accuracy: 0.9726\n",
      "Loss: 0.17207829654216766\n",
      "Accuracy: 0.9726027250289917\n"
     ]
    }
   ],
   "source": [
    "callback = keras.callbacks.EarlyStopping(monitor='loss', min_delta=0, patience=3)\n",
    "#Define sequential neural network\n",
    "model = Sequential()\n",
    "\n",
    "#Add hidden layer\n",
    "model.add(Dense(4, activation='relu', input_dim=5))\n",
    "\n",
    "#Add dropout layer\n",
    "model.add(Dropout(0.1))\n",
    "\n",
    "#Add layer to classify\n",
    "model.add(Dense(1, activation='sigmoid'))\n",
    "\n",
    "#Compile model parameters\n",
    "model.compile(loss='binary_crossentropy', optimizer='adam', metrics=['accuracy'])\n",
    "\n",
    "#Fit model to training data, tune epoch/batch parameters\n",
    "history = model.fit(x_train, y_train, epochs=30, batch_size=15, callbacks=[callback], verbose=0)\n",
    "\n",
    "#Print loss \n",
    "print(len(history.history['loss']))\n",
    "\n",
    "#Test on training data and print loss and accuracy metrics\n",
    "loss, accuracy = model.evaluate(x_test, y_test)\n",
    "print(\"Loss: \" + str(loss))\n",
    "print(\"Accuracy: \" + str(accuracy))"
   ]
  },
  {
   "cell_type": "code",
   "execution_count": null,
   "metadata": {},
   "outputs": [],
   "source": []
  },
  {
   "cell_type": "code",
   "execution_count": null,
   "metadata": {},
   "outputs": [],
   "source": []
  }
 ],
 "metadata": {
  "kernelspec": {
   "display_name": "Python 3",
   "language": "python",
   "name": "python3"
  },
  "language_info": {
   "codemirror_mode": {
    "name": "ipython",
    "version": 3
   },
   "file_extension": ".py",
   "mimetype": "text/x-python",
   "name": "python",
   "nbconvert_exporter": "python",
   "pygments_lexer": "ipython3",
   "version": "3.8.3"
  }
 },
 "nbformat": 4,
 "nbformat_minor": 4
}
